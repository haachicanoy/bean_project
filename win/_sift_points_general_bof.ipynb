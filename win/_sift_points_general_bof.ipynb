{
 "cells": [
  {
   "cell_type": "code",
   "execution_count": 1,
   "metadata": {},
   "outputs": [
    {
     "name": "stdout",
     "output_type": "stream",
     "text": [
      "OpenCV version: 3.1.0\n"
     ]
    }
   ],
   "source": [
    "# Load packages\n",
    "import os\n",
    "import cv2\n",
    "import glob\n",
    "import numpy as np\n",
    "from matplotlib import pyplot as plt\n",
    "\n",
    "# Verify Opencv version\n",
    "print('OpenCV version: ' + cv2.__version__)"
   ]
  },
  {
   "cell_type": "code",
   "execution_count": 2,
   "metadata": {},
   "outputs": [],
   "source": [
    "# Define functions\n",
    "# Function: grep function\n",
    "def grep(l, s):\n",
    "    return [i for i in l if s in i]\n",
    "\n",
    "# Function: Dense SIFT function\n",
    "def dense_sift(gray_img, step_size):\n",
    "    # SIFT calculator\n",
    "    sift = cv2.xfeatures2d.SIFT_create()\n",
    "    # Define step size\n",
    "    kp = [cv2.KeyPoint(x, y, step_size) for y in range(0, gray_img.shape[0], step_size)\n",
    "                                        for x in range(0, gray_img.shape[1], step_size)]\n",
    "    kp, desc = sift.compute(gray_img, kp)\n",
    "    return kp, desc\n",
    "\n",
    "# Function: Extract features per variety\n",
    "def featExtraction_perClass(path):\n",
    "    \n",
    "    print('Read images and convert them to gray format\\n')\n",
    "    img_list = os.listdir(path)\n",
    "    img_list = grep(img_list, '.jpg')\n",
    "    bgr_imgs = [cv2.imread(file) for file in glob.glob(path + \"/*.jpg\")]\n",
    "    gry_imgs = bgr_imgs\n",
    "    for i in range(0, len(bgr_imgs)):\n",
    "        gry_imgs[i] = cv2.cvtColor(bgr_imgs[i], cv2.COLOR_BGR2GRAY) # 0.299*R + 0.587*G + 0.114*B\n",
    "    \n",
    "    print('Apply dense SIFT over individualized images\\n')\n",
    "    img_kp   = [None]*len(gry_imgs)\n",
    "    img_desc = [None]*len(gry_imgs)\n",
    "    for i in range(0, len(gry_imgs)):\n",
    "        img_kp[i], img_desc[i] = dense_sift(gry_imgs[i], step_size = 8)\n",
    "    \n",
    "    print('Reshaping extracted SIFT features\\n')\n",
    "    descriptors = np.reshape(img_desc, (img_desc[0].shape[0]*len(img_desc), 128))\n",
    "    descriptors = np.float32(descriptors)\n",
    "    \n",
    "    print('Returning extracted features\\n')\n",
    "    return(descriptors)"
   ]
  },
  {
   "cell_type": "code",
   "execution_count": 3,
   "metadata": {},
   "outputs": [
    {
     "name": "stdout",
     "output_type": "stream",
     "text": [
      "Read images and convert them to gray format\n",
      "\n",
      "Apply dense SIFT over individualized images\n",
      "\n",
      "Reshaping extracted SIFT features\n",
      "\n",
      "Returning extracted features\n",
      "\n",
      "Read images and convert them to gray format\n",
      "\n",
      "Apply dense SIFT over individualized images\n",
      "\n",
      "Reshaping extracted SIFT features\n",
      "\n",
      "Returning extracted features\n",
      "\n",
      "Read images and convert them to gray format\n",
      "\n",
      "Apply dense SIFT over individualized images\n",
      "\n",
      "Reshaping extracted SIFT features\n",
      "\n",
      "Returning extracted features\n",
      "\n",
      "Read images and convert them to gray format\n",
      "\n",
      "Apply dense SIFT over individualized images\n",
      "\n",
      "Reshaping extracted SIFT features\n",
      "\n",
      "Returning extracted features\n",
      "\n",
      "Read images and convert them to gray format\n",
      "\n",
      "Apply dense SIFT over individualized images\n",
      "\n",
      "Reshaping extracted SIFT features\n",
      "\n",
      "Returning extracted features\n",
      "\n",
      "Read images and convert them to gray format\n",
      "\n",
      "Apply dense SIFT over individualized images\n",
      "\n",
      "Reshaping extracted SIFT features\n",
      "\n",
      "Returning extracted features\n",
      "\n",
      "Read images and convert them to gray format\n",
      "\n",
      "Apply dense SIFT over individualized images\n",
      "\n",
      "Reshaping extracted SIFT features\n",
      "\n",
      "Returning extracted features\n",
      "\n",
      "Read images and convert them to gray format\n",
      "\n",
      "Apply dense SIFT over individualized images\n",
      "\n",
      "Reshaping extracted SIFT features\n",
      "\n",
      "Returning extracted features\n",
      "\n",
      "Read images and convert them to gray format\n",
      "\n",
      "Apply dense SIFT over individualized images\n",
      "\n",
      "Reshaping extracted SIFT features\n",
      "\n",
      "Returning extracted features\n",
      "\n",
      "Read images and convert them to gray format\n",
      "\n",
      "Apply dense SIFT over individualized images\n",
      "\n",
      "Reshaping extracted SIFT features\n",
      "\n",
      "Returning extracted features\n",
      "\n",
      "Read images and convert them to gray format\n",
      "\n",
      "Apply dense SIFT over individualized images\n",
      "\n",
      "Reshaping extracted SIFT features\n",
      "\n",
      "Returning extracted features\n",
      "\n",
      "Read images and convert them to gray format\n",
      "\n",
      "Apply dense SIFT over individualized images\n",
      "\n",
      "Reshaping extracted SIFT features\n",
      "\n",
      "Returning extracted features\n",
      "\n",
      "Read images and convert them to gray format\n",
      "\n",
      "Apply dense SIFT over individualized images\n",
      "\n",
      "Reshaping extracted SIFT features\n",
      "\n",
      "Returning extracted features\n",
      "\n",
      "Read images and convert them to gray format\n",
      "\n",
      "Apply dense SIFT over individualized images\n",
      "\n",
      "Reshaping extracted SIFT features\n",
      "\n",
      "Returning extracted features\n",
      "\n",
      "Read images and convert them to gray format\n",
      "\n",
      "Apply dense SIFT over individualized images\n",
      "\n",
      "Reshaping extracted SIFT features\n",
      "\n",
      "Returning extracted features\n",
      "\n",
      "Read images and convert them to gray format\n",
      "\n",
      "Apply dense SIFT over individualized images\n",
      "\n",
      "Reshaping extracted SIFT features\n",
      "\n",
      "Returning extracted features\n",
      "\n",
      "Read images and convert them to gray format\n",
      "\n",
      "Apply dense SIFT over individualized images\n",
      "\n",
      "Reshaping extracted SIFT features\n",
      "\n",
      "Returning extracted features\n",
      "\n",
      "Read images and convert them to gray format\n",
      "\n",
      "Apply dense SIFT over individualized images\n",
      "\n",
      "Reshaping extracted SIFT features\n",
      "\n",
      "Returning extracted features\n",
      "\n",
      "Read images and convert them to gray format\n",
      "\n",
      "Apply dense SIFT over individualized images\n",
      "\n",
      "Reshaping extracted SIFT features\n",
      "\n",
      "Returning extracted features\n",
      "\n",
      "Read images and convert them to gray format\n",
      "\n",
      "Apply dense SIFT over individualized images\n",
      "\n",
      "Reshaping extracted SIFT features\n",
      "\n",
      "Returning extracted features\n",
      "\n",
      "Read images and convert them to gray format\n",
      "\n",
      "Apply dense SIFT over individualized images\n",
      "\n",
      "Reshaping extracted SIFT features\n",
      "\n",
      "Returning extracted features\n",
      "\n",
      "Read images and convert them to gray format\n",
      "\n",
      "Apply dense SIFT over individualized images\n",
      "\n",
      "Reshaping extracted SIFT features\n",
      "\n",
      "Returning extracted features\n",
      "\n"
     ]
    }
   ],
   "source": [
    "# List varieties' directories\n",
    "root = '/Users/haachicanoy/Documents/Data/Computer_vision/clear_bckg/_img_sgmn'\n",
    "paths = [ path for path in os.listdir(root) if os.path.isdir(os.path.join(root, path)) ]\n",
    "for i in range(0, len(paths)):\n",
    "    paths[i] = root + '/' + paths[i]\n",
    "\n",
    "# Obtain images features for all available varieties\n",
    "varieties_features = []\n",
    "for i in range(0, len(paths)):\n",
    "    varieties_features.append([])\n",
    "    varieties_features[i].append(featExtraction_perClass(paths[i]))"
   ]
  },
  {
   "cell_type": "code",
   "execution_count": 4,
   "metadata": {},
   "outputs": [],
   "source": [
    "nrows = []\n",
    "for i in range(0, len(varieties_features)):\n",
    "    nrows.append([])\n",
    "    nrows[i].append(varieties_features[i][0].shape[0])\n",
    "\n",
    "nrows = [val for sublist in nrows for val in sublist]\n",
    "varieties_features = [val for sublist in varieties_features for val in sublist]\n",
    "varieties_features = [val for sublist in varieties_features for val in sublist]\n",
    "\n",
    "all_feat = np.reshape(varieties_features, (sum(nrows), 128))\n",
    "all_feat = np.float32(all_feat)"
   ]
  },
  {
   "cell_type": "code",
   "execution_count": 5,
   "metadata": {},
   "outputs": [
    {
     "name": "stdout",
     "output_type": "stream",
     "text": [
      "372307\n"
     ]
    }
   ],
   "source": [
    "print(len(varieties_features))"
   ]
  },
  {
   "cell_type": "code",
   "execution_count": 6,
   "metadata": {},
   "outputs": [],
   "source": [
    "temp, classified_points, means = cv2.kmeans(data = all_feat,\n",
    "                                            K = 1000,\n",
    "                                            bestLabels = None,\n",
    "                                            criteria = (cv2.TERM_CRITERIA_EPS | cv2.TERM_CRITERIA_MAX_ITER, 1, 20),\n",
    "                                            attempts = 10,\n",
    "                                            flags = cv2.KMEANS_RANDOM_CENTERS)"
   ]
  },
  {
   "cell_type": "code",
   "execution_count": 7,
   "metadata": {},
   "outputs": [
    {
     "name": "stdout",
     "output_type": "stream",
     "text": [
      "[[ 0.  0.  0. ...  0.  0.  0.]\n",
      " [ 2. 53.  6. ...  0.  0.  0.]\n",
      " [ 0.  0.  0. ...  0.  0.  0.]\n",
      " ...\n",
      " [ 0.  0.  0. ...  0.  0.  0.]\n",
      " [ 0.  0.  0. ...  0.  0.  0.]\n",
      " [ 0.  0.  0. ...  0.  0.  0.]]\n"
     ]
    }
   ],
   "source": [
    "print(means)"
   ]
  },
  {
   "cell_type": "code",
   "execution_count": 8,
   "metadata": {},
   "outputs": [
    {
     "data": {
      "image/png": "[encoded data removed]",
      "text/plain": [
       "<Figure size 432x288 with 1 Axes>"
      ]
     },
     "metadata": {
      "needs_background": "light"
     },
     "output_type": "display_data"
    }
   ],
   "source": [
    "plt.hist(classified_points, bins = 'auto')\n",
    "plt.show()"
   ]
  }
 ],
 "metadata": {
  "kernelspec": {
   "display_name": "Python 3",
   "language": "python",
   "name": "python3"
  },
  "language_info": {
   "codemirror_mode": {
    "name": "ipython",
    "version": 3
   },
   "file_extension": ".py",
   "mimetype": "text/x-python",
   "name": "python",
   "nbconvert_exporter": "python",
   "pygments_lexer": "ipython3",
   "version": "3.5.6"
  }
 },
 "nbformat": 4,
 "nbformat_minor": 2
}
