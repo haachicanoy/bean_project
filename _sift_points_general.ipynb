{
 "cells": [
  {
   "cell_type": "code",
   "execution_count": 11,
   "metadata": {},
   "outputs": [
    {
     "name": "stdout",
     "output_type": "stream",
     "text": [
      "OpenCV version: 3.1.0\n"
     ]
    }
   ],
   "source": [
    "# Load packages\n",
    "import os\n",
    "import cv2\n",
    "import glob\n",
    "import numpy as np\n",
    "from matplotlib import pyplot as plt\n",
    "\n",
    "# Verify Opencv version\n",
    "print('OpenCV version: ' + cv2.__version__)"
   ]
  },
  {
   "cell_type": "code",
   "execution_count": 12,
   "metadata": {},
   "outputs": [
    {
     "data": {
      "image/png": "[encoded data removed]",
      "text/plain": [
       "<Figure size 1440x720 with 1 Axes>"
      ]
     },
     "metadata": {
      "needs_background": "light"
     },
     "output_type": "display_data"
    }
   ],
   "source": [
    "# Function: grep\n",
    "def grep(l, s):\n",
    "    return [i for i in l if s in i]\n",
    "\n",
    "root = '/Users/haachicanoy/Documents/Data/Computer_vision/clear_bckg/_img_sgmn'\n",
    "paths = [ path for path in os.listdir(root) if os.path.isdir(os.path.join(root, path)) ]\n",
    "\n",
    "for i in range(0, len(paths)):\n",
    "    paths[i] = root + '/' + paths[i]\n",
    "\n",
    "# Read images and convert them to gray format\n",
    "root = '/Users/haachicanoy/Documents/Data/Computer_vision/clear_bckg/_img_sgmn/18ACA03060_000'\n",
    "img_list = os.listdir(root)\n",
    "img_list = grep(img_list, '.jpg')\n",
    "\n",
    "bgr_imgs = [cv2.imread(file) for file in glob.glob(root + \"/*.jpg\")]\n",
    "gry_imgs = bgr_imgs\n",
    "\n",
    "for i in range(0, len(bgr_imgs)):\n",
    "    gry_imgs[i] = cv2.cvtColor(bgr_imgs[i], cv2.COLOR_BGR2GRAY) # 0.299*R + 0.587*G + 0.114*B\n",
    "\n",
    "# Plot grayscale image\n",
    "plt.figure(figsize=(20,10))\n",
    "plt.imshow(gry_imgs[1])\n",
    "plt.show()"
   ]
  },
  {
   "cell_type": "code",
   "execution_count": 13,
   "metadata": {},
   "outputs": [],
   "source": [
    "# Dense SIFT function\n",
    "def dense_sift(gray_img, step_size):\n",
    "    # SIFT calculator\n",
    "    sift = cv2.xfeatures2d.SIFT_create()\n",
    "    # Define step size\n",
    "    kp = [cv2.KeyPoint(x, y, step_size) for y in range(0, gray_img.shape[0], step_size)\n",
    "                                        for x in range(0, gray_img.shape[1], step_size)]\n",
    "    kp, desc = sift.compute(gray_img, kp)\n",
    "    return kp, desc"
   ]
  },
  {
   "cell_type": "code",
   "execution_count": 14,
   "metadata": {},
   "outputs": [],
   "source": [
    "img_kp   = [None]*len(gry_imgs)\n",
    "img_desc = [None]*len(gry_imgs)\n",
    "\n",
    "for i in range(0, len(gry_imgs)):\n",
    "    img_kp[i], img_desc[i] = dense_sift(gry_imgs[i], step_size = 8)"
   ]
  },
  {
   "cell_type": "code",
   "execution_count": 21,
   "metadata": {},
   "outputs": [
    {
     "name": "stdout",
     "output_type": "stream",
     "text": [
      "169\n",
      "100\n"
     ]
    }
   ],
   "source": [
    "print(img_desc[1].shape[0])\n",
    "print(len(img_desc))\n",
    "x = np.reshape(img_desc, (img_desc[0].shape[0]*len(img_desc), 128))\n",
    "x = np.float32(x)"
   ]
  },
  {
   "cell_type": "code",
   "execution_count": 7,
   "metadata": {},
   "outputs": [],
   "source": [
    "temp, classified_points, means = cv2.kmeans(data = x,\n",
    "                                            K = 1000,\n",
    "                                            bestLabels = None,\n",
    "                                            criteria = (cv2.TERM_CRITERIA_EPS | cv2.TERM_CRITERIA_MAX_ITER, 1, 20),\n",
    "                                            attempts = 10,\n",
    "                                            flags = cv2.KMEANS_RANDOM_CENTERS)"
   ]
  },
  {
   "cell_type": "code",
   "execution_count": 8,
   "metadata": {},
   "outputs": [
    {
     "name": "stdout",
     "output_type": "stream",
     "text": [
      "[[  0.   0.   0. ...   0.   0.   0.]\n",
      " [  0.   0.   0. ...   5.   0.   0.]\n",
      " [  0.   0.   0. ...   1.   0.   0.]\n",
      " ...\n",
      " [  5.  27. 213. ...   0.   0.   0.]\n",
      " [  0.   0. 240. ...   0.   0.   0.]\n",
      " [  1.   1. 255. ...   0.   0.   0.]]\n"
     ]
    }
   ],
   "source": [
    "print(means)"
   ]
  },
  {
   "cell_type": "code",
   "execution_count": 10,
   "metadata": {},
   "outputs": [
    {
     "data": {
      "image/png": "[encoded data removed]",
      "text/plain": [
       "<Figure size 432x288 with 1 Axes>"
      ]
     },
     "metadata": {
      "needs_background": "light"
     },
     "output_type": "display_data"
    }
   ],
   "source": [
    "plt.hist(classified_points, bins = 'auto')\n",
    "plt.show()"
   ]
  }
 ],
 "metadata": {
  "kernelspec": {
   "display_name": "Python 3",
   "language": "python",
   "name": "python3"
  },
  "language_info": {
   "codemirror_mode": {
    "name": "ipython",
    "version": 3
   },
   "file_extension": ".py",
   "mimetype": "text/x-python",
   "name": "python",
   "nbconvert_exporter": "python",
   "pygments_lexer": "ipython3",
   "version": "3.5.6"
  }
 },
 "nbformat": 4,
 "nbformat_minor": 2
}
